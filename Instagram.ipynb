def insta_like(img,filter_name):
   
  if(filter_name=='nashville'):
        w=cv2.imread('sky.jpg')
        n=cv2.imread('white.jpg')
        n= cv2.cvtColor(n, cv2.COLOR_BGR2RGB)
        n=cv2.resize(n,(img.shape[1],img.shape[0]))
        w = cv2.cvtColor(w, cv2.COLOR_BGR2RGB)
        w=cv2.resize(w,(img.shape[1],img.shape[0]))
        b=img
        b=cv2.addWeighted(b,0.7,w,0.5,0)
        b=cv2.addWeighted(b,0.7,n,0.5,0)
        return b   
  
  elif (filter_name == 'x-proll'): 
        #b=cv2.blur(img,(5,5))
         b=cv2.GaussianBlur( img, (0, 0), 3);
         sh=cv2.addWeighted(img, 2, b, -1.2, 0);
         w=cv2.imread('black.jpg')
         w = cv2.cvtColor(w, cv2.COLOR_BGR2RGB)
         w=cv2.resize(w,(img.shape[1],img.shape[0]))

         n=cv2.addWeighted(sh,0.7,w,0.7,0)  
         return n

  elif(filter_name=='earlybird'):
        w=cv2.imread('white_mid.jpg')
        w = cv2.cvtColor(w, cv2.COLOR_BGR2RGB)
        w=cv2.resize(w,(img.shape[1],img.shape[0]))
        b=img
        b=cv2.addWeighted(b,0.7,w,0.5,0)
        return b   
   
  elif(filter_name=='lordkelvin'):
        w=cv2.imread('oldy.jpg')
        w = cv2.cvtColor(w, cv2.COLOR_BGR2RGB)
        w=cv2.resize(w,(img.shape[1],img.shape[0]))
        b=img
        b=cv2.addWeighted(b,0.7,w,0.5,0)
        return b
  elif(filter_name=='lily'):
        w=cv2.imread('green.jpg')
        w = cv2.cvtColor(w, cv2.COLOR_BGR2RGB)
        w=cv2.resize(w,(img.shape[1],img.shape[0]))
        b=img
        b=cv2.addWeighted(b,0.7,w,0.5,0)
        return b
    
     
In [35]:
img=cv2.imread('img.jpg')
img = cv2.cvtColor(img, cv2.COLOR_BGR2RGB)
plt.imshow(img)
